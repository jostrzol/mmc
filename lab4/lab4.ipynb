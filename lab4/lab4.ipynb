{
 "cells": [
  {
   "cell_type": "markdown",
   "metadata": {},
   "source": [
    "# MMC Laboratorium 4\n",
    "\n",
    "Autor: Jakub Ostrzołek"
   ]
  },
  {
   "cell_type": "markdown",
   "metadata": {},
   "source": [
    "## Zadanie 5"
   ]
  },
  {
   "cell_type": "markdown",
   "metadata": {},
   "source": [
    "$$I = \\int_0^{\\pi/2} \\sin x \\: dx = 1$$"
   ]
  },
  {
   "cell_type": "markdown",
   "metadata": {},
   "source": [
    "### Definicja eksperymentu Monte Carlo w wariancie podstawowym"
   ]
  },
  {
   "cell_type": "code",
   "execution_count": 208,
   "metadata": {},
   "outputs": [],
   "source": [
    "import numpy as np\n",
    "from typing import Callable\n",
    "\n",
    "\n",
    "def monte_carlo_integrate(f: Callable[[float], float], x_lim: tuple[float, float], n_points: int) -> float:\n",
    "    gen = np.random.default_rng()\n",
    "\n",
    "    domain_width = x_lim[1] - x_lim[0]\n",
    "    xs: np.ndarray = gen.random(size=n_points) * domain_width + x_lim[0]\n",
    "    ys: np.ndarray = np.apply_along_axis(f, 0, xs)\n",
    "    estimate = ys.mean() * domain_width\n",
    "\n",
    "    ys_squared: np.ndarray = np.power(ys, 2)\n",
    "    std_dev = np.sqrt(1 / (n_points - 1) * (ys_squared.mean() - ys.mean() ** 2))\n",
    "    return (estimate, std_dev)"
   ]
  },
  {
   "cell_type": "markdown",
   "metadata": {},
   "source": [
    "### Przeprowadzenie szacowania dla różnych liczności próbek"
   ]
  },
  {
   "cell_type": "code",
   "execution_count": 209,
   "metadata": {},
   "outputs": [
    {
     "data": {
      "text/plain": [
       "array([[1.00000000e+02, 1.05928658e+00, 2.83472303e-02, 5.92865795e-02],\n",
       "       [1.26000000e+02, 1.02297834e+00, 2.80042069e-02, 2.29783391e-02],\n",
       "       [1.60000000e+02, 9.89542778e-01, 2.44901516e-02, 1.04572215e-02],\n",
       "       [2.03000000e+02, 9.97930235e-01, 2.05707702e-02, 2.06976506e-03],\n",
       "       [2.57000000e+02, 1.01495426e+00, 1.88206536e-02, 1.49542636e-02],\n",
       "       [3.25000000e+02, 9.85884424e-01, 1.70680503e-02, 1.41155763e-02],\n",
       "       [4.12000000e+02, 1.00266628e+00, 1.48468804e-02, 2.66627966e-03],\n",
       "       [5.22000000e+02, 9.99517797e-01, 1.36525009e-02, 4.82203219e-04],\n",
       "       [6.61000000e+02, 1.01021448e+00, 1.22089127e-02, 1.02144756e-02],\n",
       "       [8.37000000e+02, 9.95148266e-01, 1.05401086e-02, 4.85173357e-03],\n",
       "       [1.06000000e+03, 1.01367775e+00, 9.57603559e-03, 1.36777547e-02],\n",
       "       [1.34300000e+03, 9.87938719e-01, 8.55710462e-03, 1.20612813e-02],\n",
       "       [1.70100000e+03, 1.00023055e+00, 7.51601962e-03, 2.30547466e-04],\n",
       "       [2.15400000e+03, 1.00910885e+00, 6.59500978e-03, 9.10885144e-03],\n",
       "       [2.72800000e+03, 9.90861234e-01, 5.90404126e-03, 9.13876605e-03],\n",
       "       [3.45500000e+03, 9.96225123e-01, 5.21788379e-03, 3.77487745e-03],\n",
       "       [4.37500000e+03, 9.83350259e-01, 4.68496265e-03, 1.66497415e-02],\n",
       "       [5.54100000e+03, 1.00919274e+00, 4.09801865e-03, 9.19274495e-03],\n",
       "       [7.01700000e+03, 1.00032850e+00, 3.63847557e-03, 3.28498224e-04],\n",
       "       [8.88600000e+03, 1.00348670e+00, 3.24324049e-03, 3.48669594e-03],\n",
       "       [1.12530000e+04, 1.00766003e+00, 2.87402614e-03, 7.66003172e-03],\n",
       "       [1.42510000e+04, 9.97475488e-01, 2.59082104e-03, 2.52451166e-03],\n",
       "       [1.80470000e+04, 9.95315555e-01, 2.30072343e-03, 4.68444531e-03],\n",
       "       [2.28540000e+04, 9.98473578e-01, 2.03566728e-03, 1.52642205e-03],\n",
       "       [2.89420000e+04, 1.00190760e+00, 1.80710086e-03, 1.90759517e-03],\n",
       "       [3.66520000e+04, 1.00019025e+00, 1.60418758e-03, 1.90248972e-04],\n",
       "       [4.64150000e+04, 1.00017333e+00, 1.43198847e-03, 1.73326504e-04],\n",
       "       [5.87800000e+04, 1.00123701e+00, 1.26864265e-03, 1.23701382e-03],\n",
       "       [7.44380000e+04, 1.00172625e+00, 1.13007081e-03, 1.72625240e-03],\n",
       "       [9.42660000e+04, 9.98995171e-01, 1.00422977e-03, 1.00482874e-03],\n",
       "       [1.19377000e+05, 9.97189718e-01, 8.94368970e-04, 2.81028163e-03],\n",
       "       [1.51177000e+05, 9.99681710e-01, 7.91926811e-04, 3.18290439e-04],\n",
       "       [1.91448000e+05, 1.00034019e+00, 7.02903848e-04, 3.40189978e-04],\n",
       "       [2.42446000e+05, 9.99310139e-01, 6.26346047e-04, 6.89861063e-04],\n",
       "       [3.07029000e+05, 1.00001680e+00, 5.56482553e-04, 1.68021251e-05],\n",
       "       [3.88815000e+05, 9.99793066e-01, 4.93534390e-04, 2.06933708e-04],\n",
       "       [4.92388000e+05, 1.00003749e+00, 4.38319218e-04, 3.74931388e-05],\n",
       "       [6.23550000e+05, 1.00034524e+00, 3.89816279e-04, 3.45242219e-04],\n",
       "       [7.89652000e+05, 9.99917512e-01, 3.46268695e-04, 8.24875227e-05],\n",
       "       [1.00000000e+06, 1.00024546e+00, 3.07927152e-04, 2.45458986e-04]])"
      ]
     },
     "metadata": {},
     "output_type": "display_data"
    }
   ],
   "source": [
    "ns = np.logspace(2, 6, 40).astype(int)\n",
    "\n",
    "result = np.array([monte_carlo_integrate(np.sin, (0, np.pi/2), n) for n in ns])\n",
    "\n",
    "ys_estimate = result[:, 0].flatten()\n",
    "std_devs = result[:, 1].flatten()\n",
    "errors = np.abs(ys_estimate - 1)\n",
    "display(np.stack([ns, ys_estimate, std_devs, errors], axis=1))"
   ]
  },
  {
   "cell_type": "markdown",
   "metadata": {},
   "source": [
    "### Definicja eksperymentu Monte Carlo z próbkowaniem ważonym"
   ]
  },
  {
   "cell_type": "code",
   "execution_count": 210,
   "metadata": {},
   "outputs": [],
   "source": [
    "import numpy as np\n",
    "from typing import Callable, Generator, Any, NoReturn\n",
    "from itertools import islice\n",
    "\n",
    "\n",
    "def random_from_distribution_elimination(\n",
    "    distribution: Callable[[float], float], x_lim: tuple[float, float], y_max: float\n",
    ") -> Generator[float, Any, NoReturn]:\n",
    "    gen = np.random.default_rng()\n",
    "    lim = np.array([x_lim, (0, y_max)])\n",
    "    scale = lim[:, 1] - lim[:, 0]\n",
    "    translation = lim[:, 0]\n",
    "    while True:\n",
    "        [x, y] = gen.random(2) * scale + translation\n",
    "        if y <= distribution(x):\n",
    "            yield x\n",
    "\n",
    "\n",
    "def monte_carlo_integrate_importance_sampling(\n",
    "    f: Callable[[float], float],\n",
    "    distribution: Callable[[float], float],\n",
    "    distribution_max: float,\n",
    "    x_lim: tuple[float, float],\n",
    "    n_points: int,\n",
    ") -> float:\n",
    "    gen = random_from_distribution_elimination(distribution, x_lim, distribution_max)\n",
    "    xs = np.array([x for x in islice(gen, n_points)])\n",
    "\n",
    "    ps: np.ndarray = np.apply_along_axis(distribution, 0, xs)\n",
    "    ys: np.ndarray = np.apply_along_axis(f, 0, xs)\n",
    "    estimate = (ys/ps).mean()\n",
    "\n",
    "    ys_squared: np.ndarray = np.power(ys/ps, 2)\n",
    "    std_dev = np.sqrt(1 / (n_points - 1) * (ys_squared.mean() - estimate ** 2))\n",
    "    return (estimate, std_dev)"
   ]
  },
  {
   "cell_type": "markdown",
   "metadata": {},
   "source": [
    "### Przeprowadzenie szacowania dla różnych liczności próbek"
   ]
  },
  {
   "cell_type": "code",
   "execution_count": 211,
   "metadata": {},
   "outputs": [
    {
     "data": {
      "text/plain": [
       "array([[1.00000000e+02, 9.73113740e-01, 1.31690014e-02, 2.68862604e-02],\n",
       "       [1.26000000e+02, 1.00042263e+00, 1.16864236e-02, 4.22627970e-04],\n",
       "       [1.60000000e+02, 9.97376306e-01, 1.02277098e-02, 2.62369440e-03],\n",
       "       [2.03000000e+02, 1.01096569e+00, 8.96717024e-03, 1.09656941e-02],\n",
       "       [2.57000000e+02, 9.91855071e-01, 8.15596215e-03, 8.14492892e-03],\n",
       "       [3.25000000e+02, 1.00501777e+00, 7.05125324e-03, 5.01777201e-03],\n",
       "       [4.12000000e+02, 1.00361833e+00, 6.15419070e-03, 3.61833143e-03],\n",
       "       [5.22000000e+02, 1.00171410e+00, 5.61193640e-03, 1.71409731e-03],\n",
       "       [6.61000000e+02, 9.96672725e-01, 4.97357527e-03, 3.32727530e-03],\n",
       "       [8.37000000e+02, 9.99015794e-01, 4.58498378e-03, 9.84206268e-04],\n",
       "       [1.06000000e+03, 9.97815084e-01, 3.93919441e-03, 2.18491588e-03],\n",
       "       [1.34300000e+03, 1.00534361e+00, 3.56454222e-03, 5.34361113e-03],\n",
       "       [1.70100000e+03, 9.99575120e-01, 3.13766654e-03, 4.24879723e-04],\n",
       "       [2.15400000e+03, 9.98571039e-01, 2.78852335e-03, 1.42896113e-03],\n",
       "       [2.72800000e+03, 1.00028141e+00, 2.46197629e-03, 2.81408161e-04],\n",
       "       [3.45500000e+03, 9.99115697e-01, 2.18712315e-03, 8.84302784e-04],\n",
       "       [4.37500000e+03, 9.97814806e-01, 1.94089507e-03, 2.18519431e-03],\n",
       "       [5.54100000e+03, 1.00260835e+00, 1.73839707e-03, 2.60835031e-03],\n",
       "       [7.01700000e+03, 9.99643660e-01, 1.55155643e-03, 3.56340403e-04],\n",
       "       [8.88600000e+03, 1.00327120e+00, 1.36839725e-03, 3.27119571e-03],\n",
       "       [1.12530000e+04, 1.00030619e+00, 1.22405691e-03, 3.06188631e-04],\n",
       "       [1.42510000e+04, 9.97922052e-01, 1.08725498e-03, 2.07794810e-03],\n",
       "       [1.80470000e+04, 9.99481887e-01, 9.58372643e-04, 5.18112743e-04],\n",
       "       [2.28540000e+04, 9.99193162e-01, 8.51922219e-04, 8.06838099e-04],\n",
       "       [2.89420000e+04, 1.00054415e+00, 7.59108518e-04, 5.44145730e-04],\n",
       "       [3.66520000e+04, 1.00008623e+00, 6.77740200e-04, 8.62256042e-05],\n",
       "       [4.64150000e+04, 9.99089071e-01, 6.00987331e-04, 9.10928564e-04],\n",
       "       [5.87800000e+04, 1.00039818e+00, 5.35056992e-04, 3.98181905e-04],\n",
       "       [7.44380000e+04, 1.00097497e+00, 4.75448653e-04, 9.74966173e-04],\n",
       "       [9.42660000e+04, 1.00016842e+00, 4.21538563e-04, 1.68419944e-04],\n",
       "       [1.19377000e+05, 1.00020174e+00, 3.75027230e-04, 2.01740010e-04],\n",
       "       [1.51177000e+05, 9.99831392e-01, 3.32633935e-04, 1.68607923e-04],\n",
       "       [1.91448000e+05, 1.00013357e+00, 2.96102475e-04, 1.33568121e-04],\n",
       "       [2.42446000e+05, 9.99949087e-01, 2.62458551e-04, 5.09126099e-05],\n",
       "       [3.07029000e+05, 9.99937415e-01, 2.33438621e-04, 6.25850680e-05],\n",
       "       [3.88815000e+05, 9.99677712e-01, 2.07579809e-04, 3.22287891e-04],\n",
       "       [4.92388000e+05, 1.00041290e+00, 1.84474417e-04, 4.12904846e-04],\n",
       "       [6.23550000e+05, 1.00025869e+00, 1.63756981e-04, 2.58692916e-04],\n",
       "       [7.89652000e+05, 9.99990364e-01, 1.45611283e-04, 9.63581735e-06],\n",
       "       [1.00000000e+06, 9.99962042e-01, 1.29371096e-04, 3.79575361e-05]])"
      ]
     },
     "metadata": {},
     "output_type": "display_data"
    }
   ],
   "source": [
    "def g(x: float) -> float:\n",
    "    return 8 * x / np.power(np.pi, 2)\n",
    "\n",
    "\n",
    "result_is = np.array(\n",
    "    [\n",
    "        monte_carlo_integrate_importance_sampling(\n",
    "            f=np.sin,\n",
    "            distribution=g,\n",
    "            distribution_max=g(np.pi / 2),\n",
    "            x_lim=(0, np.pi / 2),\n",
    "            n_points=n,\n",
    "        )\n",
    "        for n in ns\n",
    "    ]\n",
    ")\n",
    "\n",
    "ys_estimate_is = result_is[:, 0].flatten()\n",
    "std_devs_is = result_is[:, 1].flatten()\n",
    "errors_is = np.abs(ys_estimate_is - 1)\n",
    "display(np.stack([ns, ys_estimate_is, std_devs_is, errors_is], axis=1))"
   ]
  },
  {
   "cell_type": "code",
   "execution_count": 212,
   "metadata": {},
   "outputs": [
    {
     "ename": "ValueError",
     "evalue": "x and y must be the same size",
     "output_type": "error",
     "traceback": [
      "\u001b[0;31m---------------------------------------------------------------------------\u001b[0m",
      "\u001b[0;31mValueError\u001b[0m                                Traceback (most recent call last)",
      "Cell \u001b[0;32mIn[212], line 5\u001b[0m\n\u001b[1;32m      3\u001b[0m plt\u001b[38;5;241m.\u001b[39mtitle(\u001b[38;5;124m\"\u001b[39m\u001b[38;5;124mNiepewność i błąd szacowania wartości całki \u001b[39m\u001b[38;5;130;01m\\n\u001b[39;00m\u001b[38;5;124m $\u001b[39m\u001b[38;5;124m\\\u001b[39m\u001b[38;5;124mint_0^\u001b[39m\u001b[38;5;124m{\u001b[39m\u001b[38;5;124m\\\u001b[39m\u001b[38;5;124mpi/2} \u001b[39m\u001b[38;5;124m\\\u001b[39m\u001b[38;5;124msin x$ za pomocą metody Monte Carlo\u001b[39m\u001b[38;5;124m\"\u001b[39m)\n\u001b[1;32m      4\u001b[0m plt\u001b[38;5;241m.\u001b[39mplot(ns, \u001b[38;5;241m2\u001b[39m \u001b[38;5;241m*\u001b[39m std_devs, \u001b[38;5;124m\"\u001b[39m\u001b[38;5;124mb--\u001b[39m\u001b[38;5;124m\"\u001b[39m, label\u001b[38;5;241m=\u001b[39m\u001b[38;5;124m\"\u001b[39m\u001b[38;5;124m$\u001b[39m\u001b[38;5;124m\\\u001b[39m\u001b[38;5;124msigma$ metoda podstawowa\u001b[39m\u001b[38;5;124m\"\u001b[39m)\n\u001b[0;32m----> 5\u001b[0m \u001b[43mplt\u001b[49m\u001b[38;5;241;43m.\u001b[39;49m\u001b[43mscatter\u001b[49m\u001b[43m(\u001b[49m\u001b[43mns\u001b[49m\u001b[43m,\u001b[49m\u001b[43m \u001b[49m\u001b[43merrors_sobol\u001b[49m\u001b[43m,\u001b[49m\u001b[43m \u001b[49m\u001b[38;5;241;43m2\u001b[39;49m\u001b[43m,\u001b[49m\u001b[43m \u001b[49m\u001b[38;5;124;43m\"\u001b[39;49m\u001b[38;5;124;43mb\u001b[39;49m\u001b[38;5;124;43m\"\u001b[39;49m\u001b[43m,\u001b[49m\u001b[43m \u001b[49m\u001b[43mlabel\u001b[49m\u001b[38;5;241;43m=\u001b[39;49m\u001b[38;5;124;43m\"\u001b[39;49m\u001b[38;5;124;43m$|\u001b[39;49m\u001b[38;5;124;43m\\\u001b[39;49m\u001b[38;5;124;43mDelta|$ metoda podstawowa\u001b[39;49m\u001b[38;5;124;43m\"\u001b[39;49m\u001b[43m)\u001b[49m\n\u001b[1;32m      6\u001b[0m plt\u001b[38;5;241m.\u001b[39mplot(ns, \u001b[38;5;241m2\u001b[39m \u001b[38;5;241m*\u001b[39m std_devs_is, \u001b[38;5;124m\"\u001b[39m\u001b[38;5;124mr--\u001b[39m\u001b[38;5;124m\"\u001b[39m, label\u001b[38;5;241m=\u001b[39m\u001b[38;5;124m\"\u001b[39m\u001b[38;5;124m$\u001b[39m\u001b[38;5;124m\\\u001b[39m\u001b[38;5;124msigma$ próbkowanie ważone\u001b[39m\u001b[38;5;124m\"\u001b[39m)\n\u001b[1;32m      7\u001b[0m plt\u001b[38;5;241m.\u001b[39mscatter(ns, errors_is, \u001b[38;5;241m2\u001b[39m, \u001b[38;5;124m\"\u001b[39m\u001b[38;5;124mr\u001b[39m\u001b[38;5;124m\"\u001b[39m, label\u001b[38;5;241m=\u001b[39m\u001b[38;5;124m\"\u001b[39m\u001b[38;5;124m$|\u001b[39m\u001b[38;5;124m\\\u001b[39m\u001b[38;5;124mDelta|$ próbkowanie ważone\u001b[39m\u001b[38;5;124m\"\u001b[39m)\n",
      "File \u001b[0;32m/usr/lib/python3.11/site-packages/matplotlib/pyplot.py:3699\u001b[0m, in \u001b[0;36mscatter\u001b[0;34m(x, y, s, c, marker, cmap, norm, vmin, vmax, alpha, linewidths, edgecolors, plotnonfinite, data, **kwargs)\u001b[0m\n\u001b[1;32m   3680\u001b[0m \u001b[38;5;129m@_copy_docstring_and_deprecators\u001b[39m(Axes\u001b[38;5;241m.\u001b[39mscatter)\n\u001b[1;32m   3681\u001b[0m \u001b[38;5;28;01mdef\u001b[39;00m \u001b[38;5;21mscatter\u001b[39m(\n\u001b[1;32m   3682\u001b[0m     x: \u001b[38;5;28mfloat\u001b[39m \u001b[38;5;241m|\u001b[39m ArrayLike,\n\u001b[0;32m   (...)\u001b[0m\n\u001b[1;32m   3697\u001b[0m     \u001b[38;5;241m*\u001b[39m\u001b[38;5;241m*\u001b[39mkwargs,\n\u001b[1;32m   3698\u001b[0m ) \u001b[38;5;241m-\u001b[39m\u001b[38;5;241m>\u001b[39m PathCollection:\n\u001b[0;32m-> 3699\u001b[0m     __ret \u001b[38;5;241m=\u001b[39m \u001b[43mgca\u001b[49m\u001b[43m(\u001b[49m\u001b[43m)\u001b[49m\u001b[38;5;241;43m.\u001b[39;49m\u001b[43mscatter\u001b[49m\u001b[43m(\u001b[49m\n\u001b[1;32m   3700\u001b[0m \u001b[43m        \u001b[49m\u001b[43mx\u001b[49m\u001b[43m,\u001b[49m\n\u001b[1;32m   3701\u001b[0m \u001b[43m        \u001b[49m\u001b[43my\u001b[49m\u001b[43m,\u001b[49m\n\u001b[1;32m   3702\u001b[0m \u001b[43m        \u001b[49m\u001b[43ms\u001b[49m\u001b[38;5;241;43m=\u001b[39;49m\u001b[43ms\u001b[49m\u001b[43m,\u001b[49m\n\u001b[1;32m   3703\u001b[0m \u001b[43m        \u001b[49m\u001b[43mc\u001b[49m\u001b[38;5;241;43m=\u001b[39;49m\u001b[43mc\u001b[49m\u001b[43m,\u001b[49m\n\u001b[1;32m   3704\u001b[0m \u001b[43m        \u001b[49m\u001b[43mmarker\u001b[49m\u001b[38;5;241;43m=\u001b[39;49m\u001b[43mmarker\u001b[49m\u001b[43m,\u001b[49m\n\u001b[1;32m   3705\u001b[0m \u001b[43m        \u001b[49m\u001b[43mcmap\u001b[49m\u001b[38;5;241;43m=\u001b[39;49m\u001b[43mcmap\u001b[49m\u001b[43m,\u001b[49m\n\u001b[1;32m   3706\u001b[0m \u001b[43m        \u001b[49m\u001b[43mnorm\u001b[49m\u001b[38;5;241;43m=\u001b[39;49m\u001b[43mnorm\u001b[49m\u001b[43m,\u001b[49m\n\u001b[1;32m   3707\u001b[0m \u001b[43m        \u001b[49m\u001b[43mvmin\u001b[49m\u001b[38;5;241;43m=\u001b[39;49m\u001b[43mvmin\u001b[49m\u001b[43m,\u001b[49m\n\u001b[1;32m   3708\u001b[0m \u001b[43m        \u001b[49m\u001b[43mvmax\u001b[49m\u001b[38;5;241;43m=\u001b[39;49m\u001b[43mvmax\u001b[49m\u001b[43m,\u001b[49m\n\u001b[1;32m   3709\u001b[0m \u001b[43m        \u001b[49m\u001b[43malpha\u001b[49m\u001b[38;5;241;43m=\u001b[39;49m\u001b[43malpha\u001b[49m\u001b[43m,\u001b[49m\n\u001b[1;32m   3710\u001b[0m \u001b[43m        \u001b[49m\u001b[43mlinewidths\u001b[49m\u001b[38;5;241;43m=\u001b[39;49m\u001b[43mlinewidths\u001b[49m\u001b[43m,\u001b[49m\n\u001b[1;32m   3711\u001b[0m \u001b[43m        \u001b[49m\u001b[43medgecolors\u001b[49m\u001b[38;5;241;43m=\u001b[39;49m\u001b[43medgecolors\u001b[49m\u001b[43m,\u001b[49m\n\u001b[1;32m   3712\u001b[0m \u001b[43m        \u001b[49m\u001b[43mplotnonfinite\u001b[49m\u001b[38;5;241;43m=\u001b[39;49m\u001b[43mplotnonfinite\u001b[49m\u001b[43m,\u001b[49m\n\u001b[1;32m   3713\u001b[0m \u001b[43m        \u001b[49m\u001b[38;5;241;43m*\u001b[39;49m\u001b[38;5;241;43m*\u001b[39;49m\u001b[43m(\u001b[49m\u001b[43m{\u001b[49m\u001b[38;5;124;43m\"\u001b[39;49m\u001b[38;5;124;43mdata\u001b[39;49m\u001b[38;5;124;43m\"\u001b[39;49m\u001b[43m:\u001b[49m\u001b[43m \u001b[49m\u001b[43mdata\u001b[49m\u001b[43m}\u001b[49m\u001b[43m \u001b[49m\u001b[38;5;28;43;01mif\u001b[39;49;00m\u001b[43m \u001b[49m\u001b[43mdata\u001b[49m\u001b[43m \u001b[49m\u001b[38;5;129;43;01mis\u001b[39;49;00m\u001b[43m \u001b[49m\u001b[38;5;129;43;01mnot\u001b[39;49;00m\u001b[43m \u001b[49m\u001b[38;5;28;43;01mNone\u001b[39;49;00m\u001b[43m \u001b[49m\u001b[38;5;28;43;01melse\u001b[39;49;00m\u001b[43m \u001b[49m\u001b[43m{\u001b[49m\u001b[43m}\u001b[49m\u001b[43m)\u001b[49m\u001b[43m,\u001b[49m\n\u001b[1;32m   3714\u001b[0m \u001b[43m        \u001b[49m\u001b[38;5;241;43m*\u001b[39;49m\u001b[38;5;241;43m*\u001b[39;49m\u001b[43mkwargs\u001b[49m\u001b[43m,\u001b[49m\n\u001b[1;32m   3715\u001b[0m \u001b[43m    \u001b[49m\u001b[43m)\u001b[49m\n\u001b[1;32m   3716\u001b[0m     sci(__ret)\n\u001b[1;32m   3717\u001b[0m     \u001b[38;5;28;01mreturn\u001b[39;00m __ret\n",
      "File \u001b[0;32m/usr/lib/python3.11/site-packages/matplotlib/__init__.py:1465\u001b[0m, in \u001b[0;36m_preprocess_data.<locals>.inner\u001b[0;34m(ax, data, *args, **kwargs)\u001b[0m\n\u001b[1;32m   1462\u001b[0m \u001b[38;5;129m@functools\u001b[39m\u001b[38;5;241m.\u001b[39mwraps(func)\n\u001b[1;32m   1463\u001b[0m \u001b[38;5;28;01mdef\u001b[39;00m \u001b[38;5;21minner\u001b[39m(ax, \u001b[38;5;241m*\u001b[39margs, data\u001b[38;5;241m=\u001b[39m\u001b[38;5;28;01mNone\u001b[39;00m, \u001b[38;5;241m*\u001b[39m\u001b[38;5;241m*\u001b[39mkwargs):\n\u001b[1;32m   1464\u001b[0m     \u001b[38;5;28;01mif\u001b[39;00m data \u001b[38;5;129;01mis\u001b[39;00m \u001b[38;5;28;01mNone\u001b[39;00m:\n\u001b[0;32m-> 1465\u001b[0m         \u001b[38;5;28;01mreturn\u001b[39;00m \u001b[43mfunc\u001b[49m\u001b[43m(\u001b[49m\u001b[43max\u001b[49m\u001b[43m,\u001b[49m\u001b[43m \u001b[49m\u001b[38;5;241;43m*\u001b[39;49m\u001b[38;5;28;43mmap\u001b[39;49m\u001b[43m(\u001b[49m\u001b[43msanitize_sequence\u001b[49m\u001b[43m,\u001b[49m\u001b[43m \u001b[49m\u001b[43margs\u001b[49m\u001b[43m)\u001b[49m\u001b[43m,\u001b[49m\u001b[43m \u001b[49m\u001b[38;5;241;43m*\u001b[39;49m\u001b[38;5;241;43m*\u001b[39;49m\u001b[43mkwargs\u001b[49m\u001b[43m)\u001b[49m\n\u001b[1;32m   1467\u001b[0m     bound \u001b[38;5;241m=\u001b[39m new_sig\u001b[38;5;241m.\u001b[39mbind(ax, \u001b[38;5;241m*\u001b[39margs, \u001b[38;5;241m*\u001b[39m\u001b[38;5;241m*\u001b[39mkwargs)\n\u001b[1;32m   1468\u001b[0m     auto_label \u001b[38;5;241m=\u001b[39m (bound\u001b[38;5;241m.\u001b[39marguments\u001b[38;5;241m.\u001b[39mget(label_namer)\n\u001b[1;32m   1469\u001b[0m                   \u001b[38;5;129;01mor\u001b[39;00m bound\u001b[38;5;241m.\u001b[39mkwargs\u001b[38;5;241m.\u001b[39mget(label_namer))\n",
      "File \u001b[0;32m/usr/lib/python3.11/site-packages/matplotlib/axes/_axes.py:4655\u001b[0m, in \u001b[0;36mAxes.scatter\u001b[0;34m(self, x, y, s, c, marker, cmap, norm, vmin, vmax, alpha, linewidths, edgecolors, plotnonfinite, **kwargs)\u001b[0m\n\u001b[1;32m   4653\u001b[0m y \u001b[38;5;241m=\u001b[39m np\u001b[38;5;241m.\u001b[39mma\u001b[38;5;241m.\u001b[39mravel(y)\n\u001b[1;32m   4654\u001b[0m \u001b[38;5;28;01mif\u001b[39;00m x\u001b[38;5;241m.\u001b[39msize \u001b[38;5;241m!=\u001b[39m y\u001b[38;5;241m.\u001b[39msize:\n\u001b[0;32m-> 4655\u001b[0m     \u001b[38;5;28;01mraise\u001b[39;00m \u001b[38;5;167;01mValueError\u001b[39;00m(\u001b[38;5;124m\"\u001b[39m\u001b[38;5;124mx and y must be the same size\u001b[39m\u001b[38;5;124m\"\u001b[39m)\n\u001b[1;32m   4657\u001b[0m \u001b[38;5;28;01mif\u001b[39;00m s \u001b[38;5;129;01mis\u001b[39;00m \u001b[38;5;28;01mNone\u001b[39;00m:\n\u001b[1;32m   4658\u001b[0m     s \u001b[38;5;241m=\u001b[39m (\u001b[38;5;241m20\u001b[39m \u001b[38;5;28;01mif\u001b[39;00m mpl\u001b[38;5;241m.\u001b[39mrcParams[\u001b[38;5;124m'\u001b[39m\u001b[38;5;124m_internal.classic_mode\u001b[39m\u001b[38;5;124m'\u001b[39m] \u001b[38;5;28;01melse\u001b[39;00m\n\u001b[1;32m   4659\u001b[0m          mpl\u001b[38;5;241m.\u001b[39mrcParams[\u001b[38;5;124m'\u001b[39m\u001b[38;5;124mlines.markersize\u001b[39m\u001b[38;5;124m'\u001b[39m] \u001b[38;5;241m*\u001b[39m\u001b[38;5;241m*\u001b[39m \u001b[38;5;241m2.0\u001b[39m)\n",
      "\u001b[0;31mValueError\u001b[0m: x and y must be the same size"
     ]
    },
    {
     "data": {
      "image/png": "[encoded data removed]",
      "text/plain": [
       "<Figure size 640x480 with 1 Axes>"
      ]
     },
     "metadata": {},
     "output_type": "display_data"
    }
   ],
   "source": [
    "from matplotlib import pyplot as plt\n",
    "\n",
    "plt.title(\"Niepewność i błąd szacowania wartości całki \\n $\\int_0^{\\pi/2} \\sin x$ za pomocą metody Monte Carlo\")\n",
    "plt.plot(ns, 2 * std_devs, \"b--\", label=\"$\\sigma$ metoda podstawowa\")\n",
    "plt.scatter(ns, errors_sobol, 2, \"b\", label=\"$|\\Delta|$ metoda podstawowa\")\n",
    "plt.plot(ns, 2 * std_devs_is, \"r--\", label=\"$\\sigma$ próbkowanie ważone\")\n",
    "plt.scatter(ns, errors_is, 2, \"r\", label=\"$|\\Delta|$ próbkowanie ważone\")\n",
    "plt.xlabel(\"Liczności próby $N$\")\n",
    "plt.xscale(\"log\")\n",
    "plt.ylabel(\"Niepewność szacowania $2 \\cdot \\sigma$ \\n Błąd bezwzględny $|\\Delta|$\")\n",
    "plt.yscale(\"log\")\n",
    "plt.legend(loc=\"best\")\n",
    "plt.show()"
   ]
  },
  {
   "cell_type": "markdown",
   "metadata": {},
   "source": [
    "Zarówno dla metody podstawowej, jak i z próbkowaniem ważonym widać, że:\n",
    "\n",
    "* niepewność szacowania maleje liniowo, ze współczynnikiem liniowym ok. $-1/2$ (w skali logarytmicznej),\n",
    "* znaczna większość błędów szacowania znajduje się poniżej niepewności szacowania,\n",
    "* niektóre błędy szacowania znajdują się powyżej niepewności szacowania.\n",
    "\n",
    "Niepewność szacowania jest to tak na prawdę $\\sim 95$ percentyl w rozkładzie błędu szacowania (prawo dwóch sigm w rozkładzie normalnym), a zatem ostatnie dwie obserwacje są zgodne z oczekiwaniami.\n",
    "\n",
    "Ponadto widać, że metoda z próbkowaniem ważonym dla takiej samej liczności próbek posiada mniejszą niepewność szacowania (o ok. $0.5$ dekady). Wynika to z faktu, że częściej generujemy punkty mające większy udział w szacowaniu wartości estymowanej statystyki. Mniejsza niepewność jest jednak okupiona dłuższym czasem obliczeń, ze względu na dodatkowy koszt generowania liczby losowej z rozkładu innego niż rozkład równomierny. Prawdopodobnie przy lepszej (szybszej) implmentacji efekt byłby mniej zauważalny."
   ]
  },
  {
   "cell_type": "markdown",
   "metadata": {},
   "source": [
    "## Zadanie 7\n",
    "\n"
   ]
  },
  {
   "cell_type": "markdown",
   "metadata": {},
   "source": [
    "$$I = \\int_{0}^{\\pi} \\sin x \\,\\mathrm{d}x = 2$$"
   ]
  },
  {
   "cell_type": "markdown",
   "metadata": {},
   "source": [
    "### Definicja eksperymentu Monte Carlo w wariancie orzeł-reszka"
   ]
  },
  {
   "cell_type": "code",
   "execution_count": null,
   "metadata": {},
   "outputs": [],
   "source": [
    "import numpy as np\n",
    "\n",
    "\n",
    "def monte_carlo_integrate_coin_flip(\n",
    "    f: Callable[[float], float],\n",
    "    x_lim: tuple[float, float],\n",
    "    y_lim: tuple[float, float],\n",
    "    n_points: int,\n",
    "    generator: np.random.Generator,\n",
    ") -> float:\n",
    "    lim = np.array([x_lim, y_lim])\n",
    "    scale = lim[:, 1] - lim[:, 0]\n",
    "    translation = lim[:, 0]\n",
    "\n",
    "    pts: np.ndarray = generator.random(n_points * 2).reshape((n_points, 2)) * scale + translation\n",
    "    xs, ys = pts[:, 0], pts[:, 1]\n",
    "    real_ys = np.apply_along_axis(f, 0, xs) \n",
    "    is_under: np.ndarray = ys <= real_ys\n",
    "    hit_ratio = is_under.mean()\n",
    "    estimate = hit_ratio * np.prod(scale)\n",
    "\n",
    "    return estimate"
   ]
  },
  {
   "cell_type": "markdown",
   "metadata": {},
   "source": [
    "### Wielokrotne przeprowadzenie z generatorem pseudo-losowym"
   ]
  },
  {
   "cell_type": "code",
   "execution_count": null,
   "metadata": {},
   "outputs": [
    {
     "ename": "ValueError",
     "evalue": "all input arrays must have the same shape",
     "output_type": "error",
     "traceback": [
      "\u001b[0;31m---------------------------------------------------------------------------\u001b[0m",
      "\u001b[0;31mValueError\u001b[0m                                Traceback (most recent call last)",
      "Cell \u001b[0;32mIn[207], line 17\u001b[0m\n\u001b[1;32m      3\u001b[0m ys_estimate \u001b[38;5;241m=\u001b[39m np\u001b[38;5;241m.\u001b[39marray(\n\u001b[1;32m      4\u001b[0m     [\n\u001b[1;32m      5\u001b[0m         monte_carlo_integrate_coin_flip(\n\u001b[0;32m   (...)\u001b[0m\n\u001b[1;32m     13\u001b[0m     ]\n\u001b[1;32m     14\u001b[0m )\n\u001b[1;32m     16\u001b[0m errors \u001b[38;5;241m=\u001b[39m np\u001b[38;5;241m.\u001b[39mabs(ys_estimate \u001b[38;5;241m-\u001b[39m \u001b[38;5;241m2\u001b[39m)\n\u001b[0;32m---> 17\u001b[0m display(\u001b[43mnp\u001b[49m\u001b[38;5;241;43m.\u001b[39;49m\u001b[43mstack\u001b[49m\u001b[43m(\u001b[49m\u001b[43m[\u001b[49m\u001b[43mys_estimate_is\u001b[49m\u001b[43m,\u001b[49m\u001b[43m \u001b[49m\u001b[43merrors\u001b[49m\u001b[43m]\u001b[49m\u001b[43m,\u001b[49m\u001b[43m \u001b[49m\u001b[43maxis\u001b[49m\u001b[38;5;241;43m=\u001b[39;49m\u001b[38;5;241;43m1\u001b[39;49m\u001b[43m)\u001b[49m)\n",
      "File \u001b[0;32m/usr/lib/python3.11/site-packages/numpy/core/shape_base.py:449\u001b[0m, in \u001b[0;36mstack\u001b[0;34m(arrays, axis, out, dtype, casting)\u001b[0m\n\u001b[1;32m    447\u001b[0m shapes \u001b[38;5;241m=\u001b[39m {arr\u001b[38;5;241m.\u001b[39mshape \u001b[38;5;28;01mfor\u001b[39;00m arr \u001b[38;5;129;01min\u001b[39;00m arrays}\n\u001b[1;32m    448\u001b[0m \u001b[38;5;28;01mif\u001b[39;00m \u001b[38;5;28mlen\u001b[39m(shapes) \u001b[38;5;241m!=\u001b[39m \u001b[38;5;241m1\u001b[39m:\n\u001b[0;32m--> 449\u001b[0m     \u001b[38;5;28;01mraise\u001b[39;00m \u001b[38;5;167;01mValueError\u001b[39;00m(\u001b[38;5;124m'\u001b[39m\u001b[38;5;124mall input arrays must have the same shape\u001b[39m\u001b[38;5;124m'\u001b[39m)\n\u001b[1;32m    451\u001b[0m result_ndim \u001b[38;5;241m=\u001b[39m arrays[\u001b[38;5;241m0\u001b[39m]\u001b[38;5;241m.\u001b[39mndim \u001b[38;5;241m+\u001b[39m \u001b[38;5;241m1\u001b[39m\n\u001b[1;32m    452\u001b[0m axis \u001b[38;5;241m=\u001b[39m normalize_axis_index(axis, result_ndim)\n",
      "\u001b[0;31mValueError\u001b[0m: all input arrays must have the same shape"
     ]
    }
   ],
   "source": [
    "N = 1000\n",
    "\n",
    "ys_estimate = np.array(\n",
    "    [\n",
    "        monte_carlo_integrate_coin_flip(\n",
    "            f=np.sin,\n",
    "            x_lim=(0, np.pi),\n",
    "            y_lim=(0, 1),\n",
    "            n_points=N,\n",
    "            generator = np.random.default_rng(),\n",
    "        )\n",
    "        for _ in range(100)\n",
    "    ]\n",
    ")\n",
    "\n",
    "errors = np.abs(ys_estimate - 2)\n",
    "display(np.stack([ys_estimate, errors], axis=1))"
   ]
  },
  {
   "cell_type": "markdown",
   "metadata": {},
   "source": [
    "### Wielokrotne przeprowadzenie z generatorem quasi-losowym"
   ]
  },
  {
   "cell_type": "code",
   "execution_count": null,
   "metadata": {},
   "outputs": [
    {
     "data": {
      "text/plain": [
       "array([1.84411489, 1.84411489, 1.84411489, 1.84411489, 1.84411489,\n",
       "       1.84411489, 1.84411489, 1.84411489, 1.84411489, 1.84411489,\n",
       "       1.84411489, 1.84411489, 1.84411489, 1.84411489, 1.84411489,\n",
       "       1.84411489, 1.84411489, 1.84411489, 1.84411489, 1.84411489,\n",
       "       1.84411489, 1.84411489, 1.84411489, 1.84411489, 1.84411489,\n",
       "       1.84411489, 1.84411489, 1.84411489, 1.84411489, 1.84411489,\n",
       "       1.84411489, 1.84411489, 1.84411489, 1.84411489, 1.84411489,\n",
       "       1.84411489, 1.84411489, 1.84411489, 1.84411489, 1.84411489,\n",
       "       1.84411489, 1.84411489, 1.84411489, 1.84411489, 1.84411489,\n",
       "       1.84411489, 1.84411489, 1.84411489, 1.84411489, 1.84411489,\n",
       "       1.84411489, 1.84411489, 1.84411489, 1.84411489, 1.84411489,\n",
       "       1.84411489, 1.84411489, 1.84411489, 1.84411489, 1.84411489,\n",
       "       1.84411489, 1.84411489, 1.84411489, 1.84411489, 1.84411489,\n",
       "       1.84411489, 1.84411489, 1.84411489, 1.84411489, 1.84411489,\n",
       "       1.84411489, 1.84411489, 1.84411489, 1.84411489, 1.84411489,\n",
       "       1.84411489, 1.84411489, 1.84411489, 1.84411489, 1.84411489,\n",
       "       1.84411489, 1.84411489, 1.84411489, 1.84411489, 1.84411489,\n",
       "       1.84411489, 1.84411489, 1.84411489, 1.84411489, 1.84411489,\n",
       "       1.84411489, 1.84411489, 1.84411489, 1.84411489, 1.84411489,\n",
       "       1.84411489, 1.84411489, 1.84411489, 1.84411489, 1.84411489])"
      ]
     },
     "metadata": {},
     "output_type": "display_data"
    },
    {
     "data": {
      "text/plain": [
       "array([0.15588511, 0.15588511, 0.15588511, 0.15588511, 0.15588511,\n",
       "       0.15588511, 0.15588511, 0.15588511, 0.15588511, 0.15588511,\n",
       "       0.15588511, 0.15588511, 0.15588511, 0.15588511, 0.15588511,\n",
       "       0.15588511, 0.15588511, 0.15588511, 0.15588511, 0.15588511,\n",
       "       0.15588511, 0.15588511, 0.15588511, 0.15588511, 0.15588511,\n",
       "       0.15588511, 0.15588511, 0.15588511, 0.15588511, 0.15588511,\n",
       "       0.15588511, 0.15588511, 0.15588511, 0.15588511, 0.15588511,\n",
       "       0.15588511, 0.15588511, 0.15588511, 0.15588511, 0.15588511,\n",
       "       0.15588511, 0.15588511, 0.15588511, 0.15588511, 0.15588511,\n",
       "       0.15588511, 0.15588511, 0.15588511, 0.15588511, 0.15588511,\n",
       "       0.15588511, 0.15588511, 0.15588511, 0.15588511, 0.15588511,\n",
       "       0.15588511, 0.15588511, 0.15588511, 0.15588511, 0.15588511,\n",
       "       0.15588511, 0.15588511, 0.15588511, 0.15588511, 0.15588511,\n",
       "       0.15588511, 0.15588511, 0.15588511, 0.15588511, 0.15588511,\n",
       "       0.15588511, 0.15588511, 0.15588511, 0.15588511, 0.15588511,\n",
       "       0.15588511, 0.15588511, 0.15588511, 0.15588511, 0.15588511,\n",
       "       0.15588511, 0.15588511, 0.15588511, 0.15588511, 0.15588511,\n",
       "       0.15588511, 0.15588511, 0.15588511, 0.15588511, 0.15588511,\n",
       "       0.15588511, 0.15588511, 0.15588511, 0.15588511, 0.15588511,\n",
       "       0.15588511, 0.15588511, 0.15588511, 0.15588511, 0.15588511])"
      ]
     },
     "metadata": {},
     "output_type": "display_data"
    }
   ],
   "source": [
    "from scipy.stats.qmc import Sobol\n",
    "\n",
    "ys_estimate_sobol = np.array(\n",
    "    [\n",
    "        monte_carlo_integrate_coin_flip(\n",
    "            f=np.sin,\n",
    "            x_lim=(0, np.pi),\n",
    "            y_lim=(0, 1),\n",
    "            n_points=N,\n",
    "            generator=Sobol(d=1, scramble=False),\n",
    "        )\n",
    "        for _ in range(100)\n",
    "    ]\n",
    ")\n",
    "\n",
    "errors_sobol = np.abs(ys_estimate_sobol - 2)\n",
    "display(np.stack([ys_estimate_sobol, errors_sobol], axis=1))"
   ]
  },
  {
   "cell_type": "code",
   "execution_count": null,
   "metadata": {},
   "outputs": [
    {
     "data": {
      "image/png": "[encoded data removed]",
      "text/plain": [
       "<Figure size 640x480 with 1 Axes>"
      ]
     },
     "metadata": {},
     "output_type": "display_data"
    }
   ],
   "source": [
    "plt.title(\"Rozkład błędu szacowania metody Monte Carlo orzeł-reszka\")\n",
    "plt.hist(errors, range=(0, 0.2), density=True, bins=20, label=\"generator pseudo-losowy\")\n",
    "plt.hist(errors_sobol, range=(0, 0.2), density=True, bins=20, label=\"generator quasi-losowy\")\n",
    "plt.xlabel(\"$x$\")\n",
    "plt.ylabel(\"$f(x)$\")\n",
    "plt.legend(loc=\"best\")\n",
    "plt.show()"
   ]
  },
  {
   "cell_type": "markdown",
   "metadata": {},
   "source": [
    "Błąd dla generatora pseudo-losowego posiada jakiś losowy rozkład o wielu różnych wartościach. Błąd dla generatora quasi-losowego dla danego eksperymentu może przyjąć tylko jedną wartość.\n",
    "\n",
    "Wynika do z faktu, że generatory quasi-losowe są stworzone w taki sposób, żeby otrzymanie kolejnej liczby zawsze było przewidywalne i w oczywisty sposób deterministyczne. Głównym zdaniem generatora quasi-losowego jest jak najbardziej równomierne pokrycie przedziału $[0,1)$, a nie generowanie liczb trudnych do przewidzenia. Nie ma sensu więc przeprowadzać wielokrotnie tego samego eksperymentu na generatorze quasi-losowym, bo wyniki będą identyczne."
   ]
  }
 ],
 "metadata": {
  "kernelspec": {
   "display_name": "Python 3",
   "language": "python",
   "name": "python3"
  },
  "language_info": {
   "codemirror_mode": {
    "name": "ipython",
    "version": 3
   },
   "file_extension": ".py",
   "mimetype": "text/x-python",
   "name": "python",
   "nbconvert_exporter": "python",
   "pygments_lexer": "ipython3",
   "version": "3.11.8"
  }
 },
 "nbformat": 4,
 "nbformat_minor": 2
}
