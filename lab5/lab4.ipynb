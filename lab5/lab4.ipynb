{
 "cells": [
  {
   "cell_type": "markdown",
   "metadata": {},
   "source": [
    "# MMC Laboratorium 4\n",
    "\n",
    "Autor: Jakub Ostrzołek"
   ]
  },
  {
   "cell_type": "markdown",
   "metadata": {},
   "source": [
    "## Zadanie 5"
   ]
  },
  {
   "cell_type": "markdown",
   "metadata": {},
   "source": [
    "$$I = \\int_0^{\\pi/2} \\sin x \\: dx = 1$$"
   ]
  },
  {
   "cell_type": "markdown",
   "metadata": {},
   "source": [
    "### Definicja eksperymentu Monte Carlo w wariancie podstawowym"
   ]
  },
  {
   "cell_type": "code",
   "execution_count": 10,
   "metadata": {},
   "outputs": [],
   "source": [
    "import numpy as np\n",
    "from typing import Callable\n",
    "\n",
    "\n",
    "def monte_carlo_integrate(f: Callable[[float], float], x_lim: tuple[float, float], n_points: int) -> float:\n",
    "    gen = np.random.default_rng()\n",
    "\n",
    "    domain_width = x_lim[1] - x_lim[0]\n",
    "    xs: np.ndarray = gen.random(size=n_points) * domain_width + x_lim[0]\n",
    "    ys: np.ndarray = np.apply_along_axis(f, 0, xs)\n",
    "    estimate = ys.mean() * domain_width\n",
    "\n",
    "    ys_squared: np.ndarray = np.power(ys, 2)\n",
    "    std_dev = np.sqrt(1 / (n_points - 1) * (ys_squared.mean() - ys.mean() ** 2))\n",
    "    return (estimate, std_dev)"
   ]
  },
  {
   "cell_type": "markdown",
   "metadata": {},
   "source": [
    "### Przeprowadzenie szacowania dla różnych liczności próbek"
   ]
  },
  {
   "cell_type": "code",
   "execution_count": 11,
   "metadata": {},
   "outputs": [
    {
     "data": {
      "text/plain": [
       "array([[1.00000000e+02, 1.02898590e+00, 2.88520019e-02, 2.89859013e-02],\n",
       "       [1.26000000e+02, 1.00696350e+00, 2.51950524e-02, 6.96349679e-03],\n",
       "       [1.60000000e+02, 1.02910443e+00, 2.40229623e-02, 2.91044347e-02],\n",
       "       [2.03000000e+02, 1.01980573e+00, 2.15949487e-02, 1.98057331e-02],\n",
       "       [2.57000000e+02, 1.00902929e+00, 1.80996574e-02, 9.02928947e-03],\n",
       "       [3.25000000e+02, 1.01623979e+00, 1.68956858e-02, 1.62397890e-02],\n",
       "       [4.12000000e+02, 1.01380573e+00, 1.52407861e-02, 1.38057318e-02],\n",
       "       [5.22000000e+02, 1.00226858e+00, 1.33835123e-02, 2.26858201e-03],\n",
       "       [6.61000000e+02, 1.01147363e+00, 1.23195956e-02, 1.14736325e-02],\n",
       "       [8.37000000e+02, 9.83920326e-01, 1.05329743e-02, 1.60796745e-02],\n",
       "       [1.06000000e+03, 1.01222700e+00, 9.47996715e-03, 1.22270023e-02],\n",
       "       [1.34300000e+03, 1.00515715e+00, 8.35166623e-03, 5.15715494e-03],\n",
       "       [1.70100000e+03, 9.92521106e-01, 7.45967969e-03, 7.47889371e-03],\n",
       "       [2.15400000e+03, 1.00068928e+00, 6.54818418e-03, 6.89282809e-04],\n",
       "       [2.72800000e+03, 1.01553408e+00, 5.82936083e-03, 1.55340803e-02],\n",
       "       [3.45500000e+03, 1.01495474e+00, 5.16623758e-03, 1.49547406e-02],\n",
       "       [4.37500000e+03, 9.99755685e-01, 4.65333331e-03, 2.44314861e-04],\n",
       "       [5.54100000e+03, 9.93585740e-01, 4.13917500e-03, 6.41425976e-03],\n",
       "       [7.01700000e+03, 1.00262270e+00, 3.65553745e-03, 2.62270223e-03],\n",
       "       [8.88600000e+03, 9.99083461e-01, 3.26172343e-03, 9.16539369e-04],\n",
       "       [1.12530000e+04, 9.96478929e-01, 2.90456520e-03, 3.52107087e-03],\n",
       "       [1.42510000e+04, 1.00804920e+00, 2.57920078e-03, 8.04920331e-03],\n",
       "       [1.80470000e+04, 1.00374800e+00, 2.29380494e-03, 3.74800123e-03],\n",
       "       [2.28540000e+04, 1.00217897e+00, 2.03042253e-03, 2.17897212e-03],\n",
       "       [2.89420000e+04, 1.00250009e+00, 1.80333071e-03, 2.50008567e-03],\n",
       "       [3.66520000e+04, 9.98487406e-01, 1.61053551e-03, 1.51259403e-03],\n",
       "       [4.64150000e+04, 9.99876850e-01, 1.43155009e-03, 1.23150078e-04],\n",
       "       [5.87800000e+04, 1.00010013e+00, 1.27095465e-03, 1.00133747e-04],\n",
       "       [7.44380000e+04, 1.00186672e+00, 1.12532577e-03, 1.86671500e-03],\n",
       "       [9.42660000e+04, 1.00036482e+00, 1.00489204e-03, 3.64820112e-04],\n",
       "       [1.19377000e+05, 1.00011814e+00, 8.90669333e-04, 1.18143934e-04],\n",
       "       [1.51177000e+05, 9.99106977e-01, 7.92063493e-04, 8.93023055e-04],\n",
       "       [1.91448000e+05, 1.00141901e+00, 7.04430767e-04, 1.41900511e-03],\n",
       "       [2.42446000e+05, 1.00102907e+00, 6.24325511e-04, 1.02907474e-03],\n",
       "       [3.07029000e+05, 9.99220206e-01, 5.54317647e-04, 7.79793816e-04],\n",
       "       [3.88815000e+05, 9.99386135e-01, 4.93517307e-04, 6.13864588e-04],\n",
       "       [4.92388000e+05, 9.99450838e-01, 4.38713225e-04, 5.49161985e-04],\n",
       "       [6.23550000e+05, 1.00035951e+00, 3.90035669e-04, 3.59511957e-04],\n",
       "       [7.89652000e+05, 1.00065019e+00, 3.46012079e-04, 6.50187411e-04],\n",
       "       [1.00000000e+06, 1.00058561e+00, 3.07574682e-04, 5.85614251e-04]])"
      ]
     },
     "metadata": {},
     "output_type": "display_data"
    }
   ],
   "source": [
    "ns = np.logspace(2, 6, 40).astype(int)\n",
    "\n",
    "result = np.array([monte_carlo_integrate(np.sin, (0, np.pi/2), n) for n in ns])\n",
    "\n",
    "ys_estimate = result[:, 0].flatten()\n",
    "std_devs = result[:, 1].flatten()\n",
    "errors = np.abs(ys_estimate - 1)\n",
    "display(np.stack([ns, ys_estimate, std_devs, errors], axis=1))"
   ]
  },
  {
   "cell_type": "markdown",
   "metadata": {},
   "source": [
    "### Definicja eksperymentu Monte Carlo z próbkowaniem ważonym"
   ]
  },
  {
   "cell_type": "code",
   "execution_count": 12,
   "metadata": {},
   "outputs": [],
   "source": [
    "import numpy as np\n",
    "from typing import Callable, Generator, Any, NoReturn\n",
    "from itertools import islice\n",
    "\n",
    "\n",
    "def random_from_distribution_elimination(\n",
    "    distribution: Callable[[float], float], x_lim: tuple[float, float], y_max: float\n",
    ") -> Generator[float, Any, NoReturn]:\n",
    "    gen = np.random.default_rng()\n",
    "    lim = np.array([x_lim, (0, y_max)])\n",
    "    scale = lim[:, 1] - lim[:, 0]\n",
    "    translation = lim[:, 0]\n",
    "    while True:\n",
    "        [x, y] = gen.random(2) * scale + translation\n",
    "        if y <= distribution(x):\n",
    "            yield x\n",
    "\n",
    "\n",
    "def monte_carlo_integrate_importance_sampling(\n",
    "    f: Callable[[float], float],\n",
    "    distribution: Callable[[float], float],\n",
    "    distribution_max: float,\n",
    "    x_lim: tuple[float, float],\n",
    "    n_points: int,\n",
    ") -> float:\n",
    "    gen = random_from_distribution_elimination(distribution, x_lim, distribution_max)\n",
    "    xs = np.array([x for x in islice(gen, n_points)])\n",
    "\n",
    "    ps: np.ndarray = np.apply_along_axis(distribution, 0, xs)\n",
    "    ys: np.ndarray = np.apply_along_axis(f, 0, xs)\n",
    "    estimate = (ys/ps).mean()\n",
    "\n",
    "    ys_squared: np.ndarray = np.power(ys/ps, 2)\n",
    "    std_dev = np.sqrt(1 / (n_points - 1) * (ys_squared.mean() - estimate ** 2))\n",
    "    return (estimate, std_dev)"
   ]
  },
  {
   "cell_type": "markdown",
   "metadata": {},
   "source": [
    "### Przeprowadzenie szacowania dla różnych liczności próbek"
   ]
  },
  {
   "cell_type": "code",
   "execution_count": 13,
   "metadata": {},
   "outputs": [
    {
     "data": {
      "text/plain": [
       "array([[1.00000000e+02, 9.94657757e-01, 1.23726249e-02, 5.34224324e-03],\n",
       "       [1.26000000e+02, 1.00723145e+00, 1.18734719e-02, 7.23145071e-03],\n",
       "       [1.60000000e+02, 1.01246634e+00, 1.06123982e-02, 1.24663370e-02],\n",
       "       [2.03000000e+02, 9.99357646e-01, 9.34723915e-03, 6.42354117e-04],\n",
       "       [2.57000000e+02, 1.00270412e+00, 8.25056119e-03, 2.70412485e-03],\n",
       "       [3.25000000e+02, 1.00430155e+00, 7.12563968e-03, 4.30154733e-03],\n",
       "       [4.12000000e+02, 9.95282241e-01, 6.48552331e-03, 4.71775911e-03],\n",
       "       [5.22000000e+02, 1.00330308e+00, 5.73910300e-03, 3.30308396e-03],\n",
       "       [6.61000000e+02, 1.00832293e+00, 4.90249502e-03, 8.32293027e-03],\n",
       "       [8.37000000e+02, 1.00340246e+00, 4.48635651e-03, 3.40245797e-03],\n",
       "       [1.06000000e+03, 9.99702900e-01, 3.99184672e-03, 2.97100476e-04],\n",
       "       [1.34300000e+03, 1.00026057e+00, 3.55701977e-03, 2.60573007e-04],\n",
       "       [1.70100000e+03, 1.00275997e+00, 3.13197937e-03, 2.75997490e-03],\n",
       "       [2.15400000e+03, 9.96333803e-01, 2.79041382e-03, 3.66619699e-03],\n",
       "       [2.72800000e+03, 1.00407161e+00, 2.47555477e-03, 4.07160789e-03],\n",
       "       [3.45500000e+03, 9.99132898e-01, 2.19329908e-03, 8.67101542e-04],\n",
       "       [4.37500000e+03, 1.00323730e+00, 1.94827254e-03, 3.23730302e-03],\n",
       "       [5.54100000e+03, 9.97178997e-01, 1.71738249e-03, 2.82100272e-03],\n",
       "       [7.01700000e+03, 1.00083640e+00, 1.54069542e-03, 8.36403063e-04],\n",
       "       [8.88600000e+03, 9.99509632e-01, 1.36975542e-03, 4.90367688e-04],\n",
       "       [1.12530000e+04, 9.99675666e-01, 1.21833067e-03, 3.24333716e-04],\n",
       "       [1.42510000e+04, 9.99394417e-01, 1.09489661e-03, 6.05583288e-04],\n",
       "       [1.80470000e+04, 9.99637467e-01, 9.61844055e-04, 3.62532787e-04],\n",
       "       [2.28540000e+04, 9.98502275e-01, 8.58472213e-04, 1.49772532e-03],\n",
       "       [2.89420000e+04, 1.00128327e+00, 7.66255041e-04, 1.28327485e-03],\n",
       "       [3.66520000e+04, 9.99510453e-01, 6.76447015e-04, 4.89546685e-04],\n",
       "       [4.64150000e+04, 1.00081430e+00, 6.00068709e-04, 8.14295193e-04],\n",
       "       [5.87800000e+04, 1.00017926e+00, 5.33082599e-04, 1.79263988e-04],\n",
       "       [7.44380000e+04, 9.99710261e-01, 4.73715416e-04, 2.89739057e-04],\n",
       "       [9.42660000e+04, 1.00009870e+00, 4.21837820e-04, 9.87037982e-05],\n",
       "       [1.19377000e+05, 1.00083009e+00, 3.75075718e-04, 8.30093917e-04],\n",
       "       [1.51177000e+05, 9.99947665e-01, 3.32330809e-04, 5.23348957e-05],\n",
       "       [1.91448000e+05, 9.99583087e-01, 2.95726270e-04, 4.16912904e-04],\n",
       "       [2.42446000e+05, 9.99610903e-01, 2.62896025e-04, 3.89096719e-04],\n",
       "       [3.07029000e+05, 9.99956724e-01, 2.33226708e-04, 4.32763374e-05],\n",
       "       [3.88815000e+05, 9.99776247e-01, 2.07415288e-04, 2.23752863e-04],\n",
       "       [4.92388000e+05, 1.00006642e+00, 1.84148122e-04, 6.64241540e-05],\n",
       "       [6.23550000e+05, 9.99848559e-01, 1.63880305e-04, 1.51440919e-04],\n",
       "       [7.89652000e+05, 9.99901489e-01, 1.45685114e-04, 9.85105548e-05],\n",
       "       [1.00000000e+06, 9.99771753e-01, 1.29297026e-04, 2.28246939e-04]])"
      ]
     },
     "metadata": {},
     "output_type": "display_data"
    }
   ],
   "source": [
    "def g(x: float) -> float:\n",
    "    return 8 * x / np.power(np.pi, 2)\n",
    "\n",
    "\n",
    "result_is = np.array(\n",
    "    [\n",
    "        monte_carlo_integrate_importance_sampling(\n",
    "            f=np.sin,\n",
    "            distribution=g,\n",
    "            distribution_max=g(np.pi / 2),\n",
    "            x_lim=(0, np.pi / 2),\n",
    "            n_points=n,\n",
    "        )\n",
    "        for n in ns\n",
    "    ]\n",
    ")\n",
    "\n",
    "ys_estimate_is = result_is[:, 0].flatten()\n",
    "std_devs_is = result_is[:, 1].flatten()\n",
    "errors_is = np.abs(ys_estimate_is - 1)\n",
    "display(np.stack([ns, ys_estimate_is, std_devs_is, errors_is], axis=1))"
   ]
  },
  {
   "cell_type": "code",
   "execution_count": 14,
   "metadata": {},
   "outputs": [
    {
     "data": {
      "image/png": "[encoded data removed]",
      "text/plain": [
       "<Figure size 640x480 with 1 Axes>"
      ]
     },
     "metadata": {},
     "output_type": "display_data"
    }
   ],
   "source": [
    "from matplotlib import pyplot as plt\n",
    "\n",
    "plt.title(\"Niepewność i błąd szacowania wartości całki \\n $\\int_0^{\\pi/2} \\sin x$ za pomocą metody Monte Carlo\")\n",
    "plt.plot(ns, 2 * std_devs, \"b--\", label=\"$\\sigma$ metoda podstawowa\")\n",
    "plt.scatter(ns, errors, 2, \"b\", label=\"$|\\Delta|$ metoda podstawowa\")\n",
    "plt.plot(ns, 2 * std_devs_is, \"r--\", label=\"$\\sigma$ próbkowanie ważone\")\n",
    "plt.scatter(ns, errors_is, 2, \"r\", label=\"$|\\Delta|$ próbkowanie ważone\")\n",
    "plt.xlabel(\"Liczności próby $N$\")\n",
    "plt.xscale(\"log\")\n",
    "plt.ylabel(\"Niepewność szacowania $2 \\cdot \\sigma$ \\n Błąd bezwzględny $|\\Delta|$\")\n",
    "plt.yscale(\"log\")\n",
    "plt.legend(loc=\"best\")\n",
    "plt.show()"
   ]
  },
  {
   "cell_type": "markdown",
   "metadata": {},
   "source": [
    "Zarówno dla metody podstawowej, jak i z próbkowaniem ważonym widać, że:\n",
    "\n",
    "* niepewność szacowania maleje liniowo, ze współczynnikiem liniowym ok. $-1/2$ (w skali logarytmicznej),\n",
    "* znaczna większość błędów szacowania znajduje się poniżej niepewności szacowania,\n",
    "* niektóre błędy szacowania znajdują się powyżej niepewności szacowania.\n",
    "\n",
    "Niepewność szacowania jest to tak na prawdę $\\sim 95$ percentyl w rozkładzie błędu szacowania (prawo dwóch sigm w rozkładzie normalnym), a zatem ostatnie dwie obserwacje są zgodne z oczekiwaniami.\n",
    "\n",
    "Ponadto widać, że metoda z próbkowaniem ważonym dla takiej samej liczności próbek posiada mniejszą niepewność szacowania (o ok. $0.5$ dekady). Wynika to z faktu, że częściej generujemy punkty mające większy udział w szacowaniu wartości estymowanej statystyki. Mniejsza niepewność jest jednak okupiona dłuższym czasem obliczeń, ze względu na dodatkowy koszt generowania liczby losowej z rozkładu innego niż rozkład równomierny. Prawdopodobnie przy lepszej (szybszej) implmentacji efekt byłby mniej zauważalny."
   ]
  },
  {
   "cell_type": "markdown",
   "metadata": {},
   "source": [
    "## Zadanie 7\n",
    "\n"
   ]
  },
  {
   "cell_type": "markdown",
   "metadata": {},
   "source": [
    "$$I = \\int_{0}^{\\pi} \\sin x \\,\\mathrm{d}x = 2$$"
   ]
  },
  {
   "cell_type": "markdown",
   "metadata": {},
   "source": [
    "### Definicja eksperymentu Monte Carlo w wariancie orzeł-reszka"
   ]
  },
  {
   "cell_type": "code",
   "execution_count": 15,
   "metadata": {},
   "outputs": [],
   "source": [
    "import numpy as np\n",
    "\n",
    "\n",
    "def monte_carlo_integrate_coin_flip(\n",
    "    f: Callable[[float], float],\n",
    "    x_lim: tuple[float, float],\n",
    "    y_lim: tuple[float, float],\n",
    "    n_points: int,\n",
    "    generator: np.random.Generator,\n",
    ") -> float:\n",
    "    lim = np.array([x_lim, y_lim])\n",
    "    scale = lim[:, 1] - lim[:, 0]\n",
    "    translation = lim[:, 0]\n",
    "\n",
    "    pts: np.ndarray = generator.random(n_points * 2).reshape((n_points, 2)) * scale + translation\n",
    "    xs, ys = pts[:, 0], pts[:, 1]\n",
    "    real_ys = np.apply_along_axis(f, 0, xs) \n",
    "    is_under: np.ndarray = ys <= real_ys\n",
    "    hit_ratio = is_under.mean()\n",
    "    estimate = hit_ratio * np.prod(scale)\n",
    "\n",
    "    return estimate"
   ]
  },
  {
   "cell_type": "markdown",
   "metadata": {},
   "source": [
    "### Wielokrotne przeprowadzenie z generatorem pseudo-losowym"
   ]
  },
  {
   "cell_type": "code",
   "execution_count": 16,
   "metadata": {},
   "outputs": [
    {
     "data": {
      "text/plain": [
       "array([[2.00433611e+00, 4.33611299e-03],\n",
       "       [1.99805293e+00, 1.94707232e-03],\n",
       "       [1.94464585e+00, 5.53541474e-02],\n",
       "       [1.94464585e+00, 5.53541474e-02],\n",
       "       [1.99491134e+00, 5.08866497e-03],\n",
       "       [1.92265470e+00, 7.73452960e-02],\n",
       "       [1.96035382e+00, 3.96461842e-02],\n",
       "       [2.05460160e+00, 5.46015954e-02],\n",
       "       [2.05146000e+00, 5.14600028e-02],\n",
       "       [1.91951311e+00, 8.04868887e-02],\n",
       "       [1.99176974e+00, 8.23025762e-03],\n",
       "       [2.01061930e+00, 1.06192983e-02],\n",
       "       [2.05460160e+00, 5.46015954e-02],\n",
       "       [2.00119452e+00, 1.19452034e-03],\n",
       "       [1.99805293e+00, 1.94707232e-03],\n",
       "       [2.11115026e+00, 1.11150263e-01],\n",
       "       [1.99805293e+00, 1.94707232e-03],\n",
       "       [1.95407063e+00, 4.59293695e-02],\n",
       "       [2.03261045e+00, 3.26104469e-02],\n",
       "       [2.00119452e+00, 1.19452034e-03],\n",
       "       [1.99491134e+00, 5.08866497e-03],\n",
       "       [2.09858389e+00, 9.85838926e-02],\n",
       "       [2.03261045e+00, 3.26104469e-02],\n",
       "       [2.02318567e+00, 2.31856689e-02],\n",
       "       [2.05460160e+00, 5.46015954e-02],\n",
       "       [1.97292019e+00, 2.70798135e-02],\n",
       "       [1.99491134e+00, 5.08866497e-03],\n",
       "       [2.01690248e+00, 1.69024836e-02],\n",
       "       [2.06402637e+00, 6.40263734e-02],\n",
       "       [1.95092904e+00, 4.90709621e-02],\n",
       "       [2.02946885e+00, 2.94688542e-02],\n",
       "       [2.00119452e+00, 1.19452034e-03],\n",
       "       [1.91637152e+00, 8.36284813e-02],\n",
       "       [1.99491134e+00, 5.08866497e-03],\n",
       "       [1.99491134e+00, 5.08866497e-03],\n",
       "       [2.04517682e+00, 4.51768175e-02],\n",
       "       [1.92579630e+00, 7.42037033e-02],\n",
       "       [2.06088478e+00, 6.08847808e-02],\n",
       "       [2.01690248e+00, 1.69024836e-02],\n",
       "       [1.97292019e+00, 2.70798135e-02],\n",
       "       [2.04831841e+00, 4.83184101e-02],\n",
       "       [1.99176974e+00, 8.23025762e-03],\n",
       "       [2.04203522e+00, 4.20352248e-02],\n",
       "       [1.92265470e+00, 7.73452960e-02],\n",
       "       [2.02318567e+00, 2.31856689e-02],\n",
       "       [1.93522107e+00, 6.47789254e-02],\n",
       "       [1.99176974e+00, 8.23025762e-03],\n",
       "       [1.98862815e+00, 1.13718503e-02],\n",
       "       [1.98548656e+00, 1.45134429e-02],\n",
       "       [1.99491134e+00, 5.08866497e-03],\n",
       "       [1.95407063e+00, 4.59293695e-02],\n",
       "       [2.00119452e+00, 1.19452034e-03],\n",
       "       [1.91951311e+00, 8.04868887e-02],\n",
       "       [1.96035382e+00, 3.96461842e-02],\n",
       "       [1.99491134e+00, 5.08866497e-03],\n",
       "       [2.03889363e+00, 3.88936322e-02],\n",
       "       [1.97606178e+00, 2.39382209e-02],\n",
       "       [1.96663700e+00, 3.33629989e-02],\n",
       "       [1.97606178e+00, 2.39382209e-02],\n",
       "       [2.03889363e+00, 3.88936322e-02],\n",
       "       [1.98234496e+00, 1.76550356e-02],\n",
       "       [2.03575204e+00, 3.57520395e-02],\n",
       "       [1.95721222e+00, 4.27877768e-02],\n",
       "       [2.04203522e+00, 4.20352248e-02],\n",
       "       [1.99176974e+00, 8.23025762e-03],\n",
       "       [1.93836267e+00, 6.16373327e-02],\n",
       "       [2.00747771e+00, 7.47770564e-03],\n",
       "       [1.91951311e+00, 8.04868887e-02],\n",
       "       [1.98862815e+00, 1.13718503e-02],\n",
       "       [1.93836267e+00, 6.16373327e-02],\n",
       "       [1.86296444e+00, 1.37035556e-01],\n",
       "       [1.93522107e+00, 6.47789254e-02],\n",
       "       [1.95407063e+00, 4.59293695e-02],\n",
       "       [2.11115026e+00, 1.11150263e-01],\n",
       "       [1.99805293e+00, 1.94707232e-03],\n",
       "       [2.05460160e+00, 5.46015954e-02],\n",
       "       [2.02946885e+00, 2.94688542e-02],\n",
       "       [1.98234496e+00, 1.76550356e-02],\n",
       "       [1.98234496e+00, 1.76550356e-02],\n",
       "       [1.98862815e+00, 1.13718503e-02],\n",
       "       [1.96349541e+00, 3.65045915e-02],\n",
       "       [1.96035382e+00, 3.96461842e-02],\n",
       "       [2.04203522e+00, 4.20352248e-02],\n",
       "       [1.92579630e+00, 7.42037033e-02],\n",
       "       [2.02318567e+00, 2.31856689e-02],\n",
       "       [1.97292019e+00, 2.70798135e-02],\n",
       "       [2.00747771e+00, 7.47770564e-03],\n",
       "       [2.08601752e+00, 8.60175220e-02],\n",
       "       [1.99805293e+00, 1.94707232e-03],\n",
       "       [1.98234496e+00, 1.76550356e-02],\n",
       "       [1.99176974e+00, 8.23025762e-03],\n",
       "       [1.90694674e+00, 9.30532593e-02],\n",
       "       [2.00119452e+00, 1.19452034e-03],\n",
       "       [2.00119452e+00, 1.19452034e-03],\n",
       "       [2.09858389e+00, 9.85838926e-02],\n",
       "       [2.05146000e+00, 5.14600028e-02],\n",
       "       [1.99491134e+00, 5.08866497e-03],\n",
       "       [2.09230071e+00, 9.23007073e-02],\n",
       "       [1.96349541e+00, 3.65045915e-02],\n",
       "       [1.99491134e+00, 5.08866497e-03]])"
      ]
     },
     "metadata": {},
     "output_type": "display_data"
    }
   ],
   "source": [
    "N = 1000\n",
    "\n",
    "ys_estimate = np.array(\n",
    "    [\n",
    "        monte_carlo_integrate_coin_flip(\n",
    "            f=np.sin,\n",
    "            x_lim=(0, np.pi),\n",
    "            y_lim=(0, 1),\n",
    "            n_points=N,\n",
    "            generator = np.random.default_rng(),\n",
    "        )\n",
    "        for _ in range(100)\n",
    "    ]\n",
    ")\n",
    "\n",
    "errors = np.abs(ys_estimate - 2)\n",
    "display(np.stack([ys_estimate, errors], axis=1))"
   ]
  },
  {
   "cell_type": "markdown",
   "metadata": {},
   "source": [
    "### Wielokrotne przeprowadzenie z generatorem quasi-losowym"
   ]
  },
  {
   "cell_type": "code",
   "execution_count": 17,
   "metadata": {},
   "outputs": [
    {
     "data": {
      "text/plain": [
       "array([[1.84411489, 0.15588511],\n",
       "       [1.84411489, 0.15588511],\n",
       "       [1.84411489, 0.15588511],\n",
       "       [1.84411489, 0.15588511],\n",
       "       [1.84411489, 0.15588511],\n",
       "       [1.84411489, 0.15588511],\n",
       "       [1.84411489, 0.15588511],\n",
       "       [1.84411489, 0.15588511],\n",
       "       [1.84411489, 0.15588511],\n",
       "       [1.84411489, 0.15588511],\n",
       "       [1.84411489, 0.15588511],\n",
       "       [1.84411489, 0.15588511],\n",
       "       [1.84411489, 0.15588511],\n",
       "       [1.84411489, 0.15588511],\n",
       "       [1.84411489, 0.15588511],\n",
       "       [1.84411489, 0.15588511],\n",
       "       [1.84411489, 0.15588511],\n",
       "       [1.84411489, 0.15588511],\n",
       "       [1.84411489, 0.15588511],\n",
       "       [1.84411489, 0.15588511],\n",
       "       [1.84411489, 0.15588511],\n",
       "       [1.84411489, 0.15588511],\n",
       "       [1.84411489, 0.15588511],\n",
       "       [1.84411489, 0.15588511],\n",
       "       [1.84411489, 0.15588511],\n",
       "       [1.84411489, 0.15588511],\n",
       "       [1.84411489, 0.15588511],\n",
       "       [1.84411489, 0.15588511],\n",
       "       [1.84411489, 0.15588511],\n",
       "       [1.84411489, 0.15588511],\n",
       "       [1.84411489, 0.15588511],\n",
       "       [1.84411489, 0.15588511],\n",
       "       [1.84411489, 0.15588511],\n",
       "       [1.84411489, 0.15588511],\n",
       "       [1.84411489, 0.15588511],\n",
       "       [1.84411489, 0.15588511],\n",
       "       [1.84411489, 0.15588511],\n",
       "       [1.84411489, 0.15588511],\n",
       "       [1.84411489, 0.15588511],\n",
       "       [1.84411489, 0.15588511],\n",
       "       [1.84411489, 0.15588511],\n",
       "       [1.84411489, 0.15588511],\n",
       "       [1.84411489, 0.15588511],\n",
       "       [1.84411489, 0.15588511],\n",
       "       [1.84411489, 0.15588511],\n",
       "       [1.84411489, 0.15588511],\n",
       "       [1.84411489, 0.15588511],\n",
       "       [1.84411489, 0.15588511],\n",
       "       [1.84411489, 0.15588511],\n",
       "       [1.84411489, 0.15588511],\n",
       "       [1.84411489, 0.15588511],\n",
       "       [1.84411489, 0.15588511],\n",
       "       [1.84411489, 0.15588511],\n",
       "       [1.84411489, 0.15588511],\n",
       "       [1.84411489, 0.15588511],\n",
       "       [1.84411489, 0.15588511],\n",
       "       [1.84411489, 0.15588511],\n",
       "       [1.84411489, 0.15588511],\n",
       "       [1.84411489, 0.15588511],\n",
       "       [1.84411489, 0.15588511],\n",
       "       [1.84411489, 0.15588511],\n",
       "       [1.84411489, 0.15588511],\n",
       "       [1.84411489, 0.15588511],\n",
       "       [1.84411489, 0.15588511],\n",
       "       [1.84411489, 0.15588511],\n",
       "       [1.84411489, 0.15588511],\n",
       "       [1.84411489, 0.15588511],\n",
       "       [1.84411489, 0.15588511],\n",
       "       [1.84411489, 0.15588511],\n",
       "       [1.84411489, 0.15588511],\n",
       "       [1.84411489, 0.15588511],\n",
       "       [1.84411489, 0.15588511],\n",
       "       [1.84411489, 0.15588511],\n",
       "       [1.84411489, 0.15588511],\n",
       "       [1.84411489, 0.15588511],\n",
       "       [1.84411489, 0.15588511],\n",
       "       [1.84411489, 0.15588511],\n",
       "       [1.84411489, 0.15588511],\n",
       "       [1.84411489, 0.15588511],\n",
       "       [1.84411489, 0.15588511],\n",
       "       [1.84411489, 0.15588511],\n",
       "       [1.84411489, 0.15588511],\n",
       "       [1.84411489, 0.15588511],\n",
       "       [1.84411489, 0.15588511],\n",
       "       [1.84411489, 0.15588511],\n",
       "       [1.84411489, 0.15588511],\n",
       "       [1.84411489, 0.15588511],\n",
       "       [1.84411489, 0.15588511],\n",
       "       [1.84411489, 0.15588511],\n",
       "       [1.84411489, 0.15588511],\n",
       "       [1.84411489, 0.15588511],\n",
       "       [1.84411489, 0.15588511],\n",
       "       [1.84411489, 0.15588511],\n",
       "       [1.84411489, 0.15588511],\n",
       "       [1.84411489, 0.15588511],\n",
       "       [1.84411489, 0.15588511],\n",
       "       [1.84411489, 0.15588511],\n",
       "       [1.84411489, 0.15588511],\n",
       "       [1.84411489, 0.15588511],\n",
       "       [1.84411489, 0.15588511]])"
      ]
     },
     "metadata": {},
     "output_type": "display_data"
    }
   ],
   "source": [
    "from scipy.stats.qmc import Sobol\n",
    "\n",
    "ys_estimate_sobol = np.array(\n",
    "    [\n",
    "        monte_carlo_integrate_coin_flip(\n",
    "            f=np.sin,\n",
    "            x_lim=(0, np.pi),\n",
    "            y_lim=(0, 1),\n",
    "            n_points=N,\n",
    "            generator=Sobol(d=1, scramble=False),\n",
    "        )\n",
    "        for _ in range(100)\n",
    "    ]\n",
    ")\n",
    "\n",
    "errors_sobol = np.abs(ys_estimate_sobol - 2)\n",
    "display(np.stack([ys_estimate_sobol, errors_sobol], axis=1))"
   ]
  },
  {
   "cell_type": "code",
   "execution_count": 18,
   "metadata": {},
   "outputs": [
    {
     "data": {
      "image/png": "[encoded data removed]",
      "text/plain": [
       "<Figure size 640x480 with 1 Axes>"
      ]
     },
     "metadata": {},
     "output_type": "display_data"
    }
   ],
   "source": [
    "plt.title(\"Rozkład błędu szacowania metody Monte Carlo orzeł-reszka\")\n",
    "plt.hist(errors, range=(0, 0.2), density=True, bins=20, label=\"generator pseudo-losowy\")\n",
    "plt.hist(errors_sobol, range=(0, 0.2), density=True, bins=20, label=\"generator quasi-losowy\")\n",
    "plt.xlabel(\"$x$\")\n",
    "plt.ylabel(\"$f(x)$\")\n",
    "plt.legend(loc=\"best\")\n",
    "plt.show()"
   ]
  },
  {
   "cell_type": "markdown",
   "metadata": {},
   "source": [
    "Błąd dla generatora pseudo-losowego posiada jakiś losowy rozkład o wielu różnych wartościach. Błąd dla generatora quasi-losowego dla danego eksperymentu może przyjąć tylko jedną wartość.\n",
    "\n",
    "Wynika do z faktu, że generatory quasi-losowe są stworzone w taki sposób, żeby otrzymanie kolejnej liczby zawsze było przewidywalne i w oczywisty sposób deterministyczne. Głównym zdaniem generatora quasi-losowego jest jak najbardziej równomierne pokrycie przedziału $[0,1)$, a nie generowanie liczb trudnych do przewidzenia. Nie ma sensu więc przeprowadzać wielokrotnie tego samego eksperymentu na generatorze quasi-losowym, bo wyniki będą identyczne."
   ]
  }
 ],
 "metadata": {
  "kernelspec": {
   "display_name": "Python 3",
   "language": "python",
   "name": "python3"
  },
  "language_info": {
   "codemirror_mode": {
    "name": "ipython",
    "version": 3
   },
   "file_extension": ".py",
   "mimetype": "text/x-python",
   "name": "python",
   "nbconvert_exporter": "python",
   "pygments_lexer": "ipython3",
   "version": "3.11.8"
  }
 },
 "nbformat": 4,
 "nbformat_minor": 2
}
